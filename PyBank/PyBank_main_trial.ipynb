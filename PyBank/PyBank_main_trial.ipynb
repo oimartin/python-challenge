{
 "cells": [
  {
   "cell_type": "code",
   "execution_count": 1,
   "metadata": {},
   "outputs": [],
   "source": [
    "# import os and csv modules\n",
    "import os\n",
    "import csv\n",
    "import pandas as pd"
   ]
  },
  {
   "cell_type": "code",
   "execution_count": 2,
   "metadata": {},
   "outputs": [],
   "source": [
    "# Call budget_data.csv\n",
    "openPath = os.path.join('..', '..', 'NUCHI201811DATA2', 'Homework', '03-Python', 'Instructions', 'PyBank', 'Resources', 'budget_data.csv')\n",
    "\n",
    "totalMonths = 0\n",
    "netTotal = 0\n",
    "budget_df = pd.read_csv(openPath, encoding=\"ISO-8859-1\")"
   ]
  },
  {
   "cell_type": "code",
   "execution_count": 3,
   "metadata": {},
   "outputs": [],
   "source": [
    "# open budgetData csv\n",
    "with open(openPath, newline='',encoding=\"utf8\") as budgetData:\n",
    "    \n",
    "    # go past header\n",
    "    next(budgetData)\n",
    "\n",
    "    # separate budgetData by commas\n",
    "    reader = csv.reader(budgetData, delimiter=',')\n",
    "\n",
    "    # loop through\n",
    "    for row in reader:\n",
    "\n",
    "        # The total number of months\n",
    "        # included in the dataset after header\n",
    "        totalMonths += 1\n",
    "        \n",
    "       \n",
    "        # re-label row[1] as integers\n",
    "        Profits_Losses = int(row[1])\n",
    "\n",
    "        # calculate total net of profits/losses\n",
    "        # total net = total net + row[1]\n",
    "        netTotal += Profits_Losses"
   ]
  },
  {
   "cell_type": "code",
   "execution_count": 4,
   "metadata": {
    "scrolled": true
   },
   "outputs": [],
   "source": [
    "# Begin calculating monthly change\n",
    "# month reference minus 1 months\n",
    "pd.to_numeric(budget_df['Profit/Losses'])\n",
    "\n",
    "budget_df['Monthly Change'] = (budget_df['Profit/Losses'].shift(-1) - budget_df['Profit/Losses'])\n",
    "\n",
    "# shift cells up by one, so monthly change starts with Jan 2010 to Feb 2010\n",
    "budget_df['Monthly Change'] = budget_df['Monthly Change'].shift(1)\n"
   ]
  },
  {
   "cell_type": "code",
   "execution_count": 5,
   "metadata": {},
   "outputs": [
    {
     "name": "stdout",
     "output_type": "stream",
     "text": [
      "-196785.0\n",
      "-2315.1176470588234\n"
     ]
    }
   ],
   "source": [
    "net_change = budget_df['Monthly Change'].sum()\n",
    "avg_mnthly_change = net_change / (len(budget_df)-1)\n",
    "\n",
    "print(net_change)\n",
    "print(avg_mnthly_change)\n"
   ]
  },
  {
   "cell_type": "code",
   "execution_count": 6,
   "metadata": {},
   "outputs": [],
   "source": [
    "# set index to 'Monthly Change'\n",
    "budget_df_dateind = budget_df.set_index(\"Monthly Change\")\n"
   ]
  },
  {
   "cell_type": "code",
   "execution_count": 7,
   "metadata": {},
   "outputs": [
    {
     "name": "stdout",
     "output_type": "stream",
     "text": [
      "1926159.0\n"
     ]
    },
    {
     "data": {
      "text/plain": [
       "'Feb-2012'"
      ]
     },
     "execution_count": 7,
     "metadata": {},
     "output_type": "execute_result"
    }
   ],
   "source": [
    "# Greatest Increase in Profits:\n",
    "max_mnthly_chng = budget_df[\"Monthly Change\"].max()\n",
    "print(max_mnthly_chng)\n",
    "budget_df_dateind.loc[max_mnthly_chng, \"Date\"]\n"
   ]
  },
  {
   "cell_type": "code",
   "execution_count": 9,
   "metadata": {},
   "outputs": [
    {
     "name": "stdout",
     "output_type": "stream",
     "text": [
      "-2196167.0\n"
     ]
    },
    {
     "data": {
      "text/plain": [
       "'Sep-2013'"
      ]
     },
     "execution_count": 9,
     "metadata": {},
     "output_type": "execute_result"
    }
   ],
   "source": [
    "# Greatest decrease in Profits:\n",
    "dec_mnthly_chng = budget_df[\"Monthly Change\"].min()\n",
    "print(dec_mnthly_chng)\n",
    "budget_df_dateind.loc[dec_mnthly_chng, \"Date\"]"
   ]
  },
  {
   "cell_type": "code",
   "execution_count": null,
   "metadata": {},
   "outputs": [],
   "source": [
    "    "
   ]
  }
 ],
 "metadata": {
  "kernelspec": {
   "display_name": "Python 3",
   "language": "python",
   "name": "python3"
  },
  "language_info": {
   "codemirror_mode": {
    "name": "ipython",
    "version": 3
   },
   "file_extension": ".py",
   "mimetype": "text/x-python",
   "name": "python",
   "nbconvert_exporter": "python",
   "pygments_lexer": "ipython3",
   "version": "3.7.0"
  }
 },
 "nbformat": 4,
 "nbformat_minor": 2
}
