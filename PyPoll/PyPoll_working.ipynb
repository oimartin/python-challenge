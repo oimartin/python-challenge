{
 "cells": [
  {
   "cell_type": "code",
   "execution_count": 15,
   "metadata": {},
   "outputs": [],
   "source": [
    "# PyPoll\n",
    "# Analyze votes from election_data.csv\n",
    "import os\n",
    "import csv"
   ]
  },
  {
   "cell_type": "code",
   "execution_count": 16,
   "metadata": {},
   "outputs": [],
   "source": [
    "# Counter for total votes\n",
    "totalVotes = 0\n",
    "\n",
    "# List of all candidates\n",
    "candidate_names = []\n",
    "\n",
    "# Total vote counts per candidate\n",
    "khan = 0\n",
    "correy = 0\n",
    "li = 0\n",
    "otooley = 0\n",
    "\n",
    "# Percent of votes per candidate\n",
    "khan_percent = 0.0\n",
    "correy_percent = 0.0\n",
    "li_percent = 0.0\n",
    "otooley_percent = 0.0\n",
    "\n",
    "# List of percent of votes per candidate\n",
    "candidate_vote_percentages = [0]\n",
    "\n",
    "# Sting for the winner of the popular vote\n",
    "winner = \"\""
   ]
  },
  {
   "cell_type": "code",
   "execution_count": 17,
   "metadata": {},
   "outputs": [],
   "source": [
    "# Call budget_data.csv\n",
    "openPath = os.path.join('..', '..', 'NUCHI201811DATA2', 'Homework', '03-Python', 'Instructions', 'PyPoll', 'Resources', 'election_data.csv')"
   ]
  },
  {
   "cell_type": "code",
   "execution_count": 18,
   "metadata": {},
   "outputs": [],
   "source": [
    "with open(openPath, newline='',encoding=\"utf8\") as electionData:\n",
    "    \n",
    "    # Go past header\n",
    "    next(electionData)\n",
    "\n",
    "# Separate electionData by commas\n",
    "    reader = csv.reader(electionData, delimiter=',')\n",
    "\n",
    "    # Go through all of the electionData \n",
    "    for row in reader:\n",
    "        \n",
    "        # Increment totalVotes for each row counted\n",
    "        totalVotes += 1\n",
    "\n",
    "        # Cast column with candidate names as a string\n",
    "        # and save in variable candidates\n",
    "        candidates = str(row[2])\n",
    "        \n",
    "        # Only if a candidate name is not in the\n",
    "        # candidate_name list, then add that candidate name\n",
    "        if candidates not in str(candidate_names):\n",
    "            candidate_names.append(candidates)\n",
    "        \n",
    "        # Increment each candidate count when name\n",
    "        # appears in the candidate column in the csv data\n",
    "        if candidates == \"Khan\":\n",
    "            khan += 1\n",
    "        elif candidates == \"Correy\":\n",
    "            correy += 1\n",
    "        elif candidates == \"Li\":\n",
    "            li += 1\n",
    "        elif candidates == \"O'Tooley\":\n",
    "            otooley += 1"
   ]
  },
  {
   "cell_type": "code",
   "execution_count": 19,
   "metadata": {},
   "outputs": [],
   "source": [
    "# Create a function to calculate a percent value and then round\n",
    "def percent_round (name):\n",
    "        return round(((name/ totalVotes)*100),2)\n",
    "\n",
    "# Percent of votes per candidate\n",
    "khan_percent = round_percent(khan)\n",
    "correy_percent = round_percent(correy)\n",
    "li_percent = round_percent(li)\n",
    "otooley_percent = round_percent(otooley)"
   ]
  },
  {
   "cell_type": "code",
   "execution_count": 20,
   "metadata": {},
   "outputs": [],
   "source": [
    "# Winner of election based on popular vote\n",
    "# Add each candidates' vote percentages to list\n",
    "candidate_vote_percentages = [khan_percent, correy_percent, li_percent, otooley_percent]\n",
    "\n",
    "# Recored the highest voter percentage\n",
    "max_voter_percentage = max(candidate_vote_percentages)\n",
    "\n",
    "# Determine winner by matching max_voter_percentage\n",
    "# to candidate percentage\n",
    "if max_voter_percentage == khan_percent:\n",
    "    winner = \"Khan\"\n",
    "elif max_voter_percentage == correy_percent:\n",
    "    winner = \"Correy\"\n",
    "elif max_voter_percentage == li_percent:\n",
    "    winner = \"Li\"\n",
    "elif max_voter_percentage == otooley_percent:\n",
    "    winner = \"O'Tolley\""
   ]
  },
  {
   "cell_type": "code",
   "execution_count": 21,
   "metadata": {},
   "outputs": [
    {
     "name": "stdout",
     "output_type": "stream",
     "text": [
      "Election Results\n",
      "---------------------------\n",
      "Total Votes: 3521001\n",
      "---------------------------\n",
      "Khan: 63.0% (2218231)\n",
      "Correy: 20.0% (704200)\n",
      "Li: 14.0% (492940)\n",
      "O'Tooley: 3.0% (105630)\n",
      "----------------------------\n",
      "Winner: Khan\n"
     ]
    }
   ],
   "source": [
    "# Print analysis of election results\n",
    "print(\"Election Results\")\n",
    "print(\"---------------------------\")\n",
    "\n",
    "print(f\"Total Votes: {totalVotes}\")\n",
    "print(\"---------------------------\")\n",
    "\n",
    "print(f\"Khan: {khan_percent}% ({khan})\")\n",
    "print(f\"Correy: {correy_percent}% ({correy})\")\n",
    "print(f\"Li: {li_percent}% ({li})\")\n",
    "print(f\"O'Tooley: {otooley_percent}% ({otooley})\")\n",
    "print(\"----------------------------\")\n",
    "print(f\"Winner: {winner}\")\n"
   ]
  },
  {
   "cell_type": "code",
   "execution_count": 22,
   "metadata": {},
   "outputs": [],
   "source": [
    "# Export a text file with the results\n",
    "open_path = \"PyPoll_analysis.txt\"\n",
    "\n",
    "with open(open_path, 'w', newline='',encoding=\"utf8\") as analysis_file:\n",
    "\n",
    "    # String of info to print and formatted for a .txt file\n",
    "    analysis = [\"Election Results \\n\", \n",
    "                \"---------------------------\\n\", \n",
    "                f\"Total Votes: {totalVotes}\\n\", \n",
    "                \"---------------------------\\n\", \n",
    "                f\"Khan: {khan_percent}% ({khan})\\n\", \n",
    "                f\"Correy: {correy_percent}% ({correy})\\n\", \n",
    "                f\"Li: {li_percent}% ({li})\", \n",
    "                f\"O'Tooley: {otooley_percent}% ({otooley})\\n\", \n",
    "                \"----------------------------\\n\", \n",
    "                f\"Winner: {winner}\"]\n",
    "    \n",
    "    # Writing out analysis string\n",
    "    analysis_file.writelines(analysis)\n",
    "    \n",
    "    \n",
    "    "
   ]
  }
 ],
 "metadata": {
  "kernelspec": {
   "display_name": "Python 3",
   "language": "python",
   "name": "python3"
  },
  "language_info": {
   "codemirror_mode": {
    "name": "ipython",
    "version": 3
   },
   "file_extension": ".py",
   "mimetype": "text/x-python",
   "name": "python",
   "nbconvert_exporter": "python",
   "pygments_lexer": "ipython3",
   "version": "3.7.0"
  }
 },
 "nbformat": 4,
 "nbformat_minor": 2
}
